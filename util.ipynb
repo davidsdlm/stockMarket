{
 "cells": [
  {
   "cell_type": "code",
   "execution_count": 1,
   "id": "5c136a53",
   "metadata": {},
   "outputs": [
    {
     "ename": "ModuleNotFoundError",
     "evalue": "No module named 'seaborn'",
     "output_type": "error",
     "traceback": [
      "\u001b[1;31m---------------------------------------------------------------------------\u001b[0m",
      "\u001b[1;31mModuleNotFoundError\u001b[0m                       Traceback (most recent call last)",
      "\u001b[1;32m~\\AppData\\Local\\Temp/ipykernel_4748/3393669985.py\u001b[0m in \u001b[0;36m<module>\u001b[1;34m\u001b[0m\n\u001b[0;32m      3\u001b[0m \u001b[1;32mimport\u001b[0m \u001b[0myfinance\u001b[0m \u001b[1;32mas\u001b[0m \u001b[0myf\u001b[0m\u001b[1;33m\u001b[0m\u001b[1;33m\u001b[0m\u001b[0m\n\u001b[0;32m      4\u001b[0m \u001b[1;32mimport\u001b[0m \u001b[0mmatplotlib\u001b[0m\u001b[1;33m.\u001b[0m\u001b[0mpyplot\u001b[0m \u001b[1;32mas\u001b[0m \u001b[0mplt\u001b[0m\u001b[1;33m\u001b[0m\u001b[1;33m\u001b[0m\u001b[0m\n\u001b[1;32m----> 5\u001b[1;33m \u001b[1;32mimport\u001b[0m \u001b[0mseaborn\u001b[0m \u001b[1;32mas\u001b[0m \u001b[0msns\u001b[0m\u001b[1;33m\u001b[0m\u001b[1;33m\u001b[0m\u001b[0m\n\u001b[0m\u001b[0;32m      6\u001b[0m \u001b[1;32mfrom\u001b[0m \u001b[0mdatetime\u001b[0m \u001b[1;32mimport\u001b[0m \u001b[0mdatetime\u001b[0m\u001b[1;33m\u001b[0m\u001b[1;33m\u001b[0m\u001b[0m\n\u001b[0;32m      7\u001b[0m \u001b[1;32mimport\u001b[0m \u001b[0mmatplotlib\u001b[0m\u001b[1;33m.\u001b[0m\u001b[0mpyplot\u001b[0m \u001b[1;32mas\u001b[0m \u001b[0mplt\u001b[0m\u001b[1;33m\u001b[0m\u001b[1;33m\u001b[0m\u001b[0m\n",
      "\u001b[1;31mModuleNotFoundError\u001b[0m: No module named 'seaborn'"
     ]
    }
   ],
   "source": [
    "import pandas as pd\n",
    "import numpy as np\n",
    "import yfinance as yf\n",
    "import matplotlib.pyplot as plt\n",
    "import seaborn as sns\n",
    "from datetime import datetime\n",
    "import matplotlib.pyplot as plt"
   ]
  },
  {
   "cell_type": "code",
   "execution_count": null,
   "id": "4884e3d6",
   "metadata": {},
   "outputs": [],
   "source": [
    "# show actions (dividends, splits)\n",
    "data.actions\n",
    "data.dividends\n",
    "data.splits\n",
    "\n",
    "# show financials\n",
    "data.financials\n",
    "data.quarterly_financials\n",
    "\n",
    "# show holders\n",
    "data.major_holders\n",
    "data.institutional_holders\n",
    "\n",
    "# show balance sheet\n",
    "data.balance_sheet\n",
    "data.quarterly_balance_sheet\n",
    "\n",
    "# show cashflow\n",
    "data.cashflow\n",
    "data.quarterly_cashflow\n",
    "\n",
    "# show earnings заработок, Revenue - прибыль\n",
    "data.earnings\n",
    "data.quarterly_earnings\n",
    "\n",
    "# show sustainability устойчивость\n",
    "data.sustainability\n",
    "\n",
    "data.recommendations"
   ]
  },
  {
   "cell_type": "code",
   "execution_count": 3,
   "id": "9693f2cc",
   "metadata": {},
   "outputs": [],
   "source": [
    "company_name = \"zyxi\"\n",
    "data = yf.Ticker( company_name.upper() )\n",
    "#  period=\"3d\"\n",
    "# hist = data.history( start=\"2021-07-28\", end =\"2021-08-01\" , interval = \"5m\" )"
   ]
  },
  {
   "cell_type": "code",
   "execution_count": null,
   "id": "b2d75602",
   "metadata": {},
   "outputs": [],
   "source": [
    "hist.index = pd.to_datetime( hist.index, utc=True )\n",
    "hist.shape"
   ]
  },
  {
   "cell_type": "code",
   "execution_count": 4,
   "id": "5abdf12a",
   "metadata": {},
   "outputs": [],
   "source": [
    "info = data.info"
   ]
  },
  {
   "cell_type": "code",
   "execution_count": 6,
   "id": "48c84699",
   "metadata": {},
   "outputs": [
    {
     "data": {
      "text/plain": [
       "{'zip': '80112',\n",
       " 'sector': 'Healthcare',\n",
       " 'fullTimeEmployees': 768,\n",
       " 'longBusinessSummary': 'Zynex, Inc., through its subsidiaries, designs, manufactures, and markets medical devices to treat chronic and acute pain; and activate and exercise muscles for rehabilitative purposes with electrical stimulation. It offers NexWave, a dual channel, multi-modality interferential current, transcutaneous electrical nerve stimulation (TENS), and neuromuscular electrical stimulation (NMES) device; NeuroMove, an electromyography triggered electrical stimulation device; InWave, an electrical stimulation product for the treatment of female urinary incontinence; and E-Wave, an NMES device. The company also supplies electrodes for the delivery of electrical current to the body, and batteries for use in electrotherapy products; and distributes Comfortrac/Saunders for cervical traction, JetStream for hot/cold therapy, and LSO Back Braces for lumbar support. In addition, it offers CM-1500, a blood volume monitor device for monitoring central blood volume for use in operating and recovery rooms to detect blood loss during surgery and internal bleeding during recovery. The company provides its products for use in pain management and control; and stroke and spinal cord injury rehabilitation. Zynex, Inc. sells its products through direct sales force primarily in the United States. The company was founded in 1996 and is headquartered in Englewood, Colorado.',\n",
       " 'city': 'Englewood',\n",
       " 'phone': '303 703 4906',\n",
       " 'state': 'CO',\n",
       " 'country': 'United States',\n",
       " 'companyOfficers': [],\n",
       " 'website': 'http://www.zynex.com',\n",
       " 'maxAge': 1,\n",
       " 'address1': '9555 Maroon Circle',\n",
       " 'industry': 'Medical Devices',\n",
       " 'ebitdaMargins': 0.085030004,\n",
       " 'profitMargins': 0.051810004,\n",
       " 'grossMargins': 0.78102994,\n",
       " 'operatingCashflow': -6743000,\n",
       " 'revenueGrowth': 0.61,\n",
       " 'operatingMargins': 0.0639,\n",
       " 'ebitda': 8569000,\n",
       " 'targetLowPrice': 15,\n",
       " 'recommendationKey': 'buy',\n",
       " 'grossProfits': 63445000,\n",
       " 'freeCashflow': -6842000,\n",
       " 'targetMedianPrice': 22,\n",
       " 'currentPrice': 13.65,\n",
       " 'earningsGrowth': -0.111,\n",
       " 'currentRatio': 6.948,\n",
       " 'returnOnAssets': 0.06683,\n",
       " 'numberOfAnalystOpinions': 5,\n",
       " 'targetMeanPrice': 26.2,\n",
       " 'debtToEquity': 34.869,\n",
       " 'returnOnEquity': 0.123950005,\n",
       " 'targetHighPrice': 52,\n",
       " 'totalCash': 32330000,\n",
       " 'totalDebt': 19980000,\n",
       " 'totalRevenue': 100780000,\n",
       " 'totalCashPerShare': 0.93,\n",
       " 'financialCurrency': 'USD',\n",
       " 'revenuePerShare': 2.902,\n",
       " 'quickRatio': 5.696,\n",
       " 'recommendationMean': 2,\n",
       " 'exchange': 'NMS',\n",
       " 'shortName': 'Zynex, Inc.',\n",
       " 'longName': 'Zynex, Inc.',\n",
       " 'exchangeTimezoneName': 'America/New_York',\n",
       " 'exchangeTimezoneShortName': 'EDT',\n",
       " 'isEsgPopulated': False,\n",
       " 'gmtOffSetMilliseconds': '-14400000',\n",
       " 'quoteType': 'EQUITY',\n",
       " 'symbol': 'ZYXI',\n",
       " 'messageBoardId': 'finmb_3103657',\n",
       " 'market': 'us_market',\n",
       " 'annualHoldingsTurnover': None,\n",
       " 'enterpriseToRevenue': 4.772,\n",
       " 'beta3Year': None,\n",
       " 'enterpriseToEbitda': 56.121,\n",
       " '52WeekChange': -0.120272756,\n",
       " 'morningStarRiskRating': None,\n",
       " 'forwardEps': 0.71,\n",
       " 'revenueQuarterlyGrowth': None,\n",
       " 'sharesOutstanding': 34760400,\n",
       " 'fundInceptionDate': None,\n",
       " 'annualReportExpenseRatio': None,\n",
       " 'totalAssets': None,\n",
       " 'bookValue': 1.648,\n",
       " 'sharesShort': 3567635,\n",
       " 'sharesPercentSharesOut': 0.1026,\n",
       " 'fundFamily': None,\n",
       " 'lastFiscalYearEnd': 1609372800,\n",
       " 'heldPercentInstitutions': 0.32321998,\n",
       " 'netIncomeToCommon': 5222000,\n",
       " 'trailingEps': 0.15,\n",
       " 'lastDividendValue': None,\n",
       " 'SandP52WeekChange': 0.3180796,\n",
       " 'priceToBook': 8.282766,\n",
       " 'heldPercentInsiders': 0.43515,\n",
       " 'nextFiscalYearEnd': 1672444800,\n",
       " 'yield': None,\n",
       " 'mostRecentQuarter': 1625011200,\n",
       " 'shortRatio': 9.65,\n",
       " 'sharesShortPreviousMonthDate': 1625011200,\n",
       " 'floatShares': 19646226,\n",
       " 'beta': 0.886498,\n",
       " 'enterpriseValue': 480899968,\n",
       " 'priceHint': 2,\n",
       " 'threeYearAverageReturn': None,\n",
       " 'lastSplitDate': None,\n",
       " 'lastSplitFactor': None,\n",
       " 'legalType': None,\n",
       " 'lastDividendDate': None,\n",
       " 'morningStarOverallRating': None,\n",
       " 'earningsQuarterlyGrowth': -0.069,\n",
       " 'priceToSalesTrailing12Months': 4.7080717,\n",
       " 'dateShortInterest': 1627603200,\n",
       " 'pegRatio': None,\n",
       " 'ytdReturn': None,\n",
       " 'forwardPE': 19.225351,\n",
       " 'lastCapGain': None,\n",
       " 'shortPercentOfFloat': 0.1825,\n",
       " 'sharesShortPriorMonth': 3544141,\n",
       " 'impliedSharesOutstanding': None,\n",
       " 'category': None,\n",
       " 'fiveYearAverageReturn': None,\n",
       " 'previousClose': 14.19,\n",
       " 'regularMarketOpen': 14.15,\n",
       " 'twoHundredDayAverage': 15.819708,\n",
       " 'trailingAnnualDividendYield': None,\n",
       " 'payoutRatio': 0,\n",
       " 'volume24Hr': None,\n",
       " 'regularMarketDayHigh': 14.18,\n",
       " 'navPrice': None,\n",
       " 'averageDailyVolume10Day': 275320,\n",
       " 'regularMarketPreviousClose': 14.19,\n",
       " 'fiftyDayAverage': 15.55,\n",
       " 'trailingAnnualDividendRate': None,\n",
       " 'open': 14.15,\n",
       " 'toCurrency': None,\n",
       " 'averageVolume10days': 275320,\n",
       " 'expireDate': None,\n",
       " 'algorithm': None,\n",
       " 'dividendRate': None,\n",
       " 'exDividendDate': 1546214400,\n",
       " 'circulatingSupply': None,\n",
       " 'startDate': None,\n",
       " 'regularMarketDayLow': 13.578,\n",
       " 'currency': 'USD',\n",
       " 'trailingPE': 90.99999,\n",
       " 'regularMarketVolume': 284122,\n",
       " 'lastMarket': None,\n",
       " 'maxSupply': None,\n",
       " 'openInterest': None,\n",
       " 'marketCap': 474479456,\n",
       " 'volumeAllCurrencies': None,\n",
       " 'strikePrice': None,\n",
       " 'averageVolume': 293566,\n",
       " 'dayLow': 13.578,\n",
       " 'ask': 14.6,\n",
       " 'askSize': 900,\n",
       " 'volume': 284122,\n",
       " 'fiftyTwoWeekHigh': 22.89,\n",
       " 'fromCurrency': None,\n",
       " 'fiveYearAvgDividendYield': None,\n",
       " 'fiftyTwoWeekLow': 12.53,\n",
       " 'bid': 13.65,\n",
       " 'tradeable': False,\n",
       " 'dividendYield': None,\n",
       " 'bidSize': 1200,\n",
       " 'dayHigh': 14.18,\n",
       " 'regularMarketPrice': 13.65,\n",
       " 'logo_url': 'https://logo.clearbit.com/zynex.com'}"
      ]
     },
     "execution_count": 6,
     "metadata": {},
     "output_type": "execute_result"
    }
   ],
   "source": [
    "info"
   ]
  },
  {
   "cell_type": "code",
   "execution_count": 5,
   "id": "b6902aeb",
   "metadata": {},
   "outputs": [
    {
     "data": {
      "text/plain": [
       "dict_keys(['zip', 'sector', 'fullTimeEmployees', 'longBusinessSummary', 'city', 'phone', 'state', 'country', 'companyOfficers', 'website', 'maxAge', 'address1', 'industry', 'ebitdaMargins', 'profitMargins', 'grossMargins', 'operatingCashflow', 'revenueGrowth', 'operatingMargins', 'ebitda', 'targetLowPrice', 'recommendationKey', 'grossProfits', 'freeCashflow', 'targetMedianPrice', 'currentPrice', 'earningsGrowth', 'currentRatio', 'returnOnAssets', 'numberOfAnalystOpinions', 'targetMeanPrice', 'debtToEquity', 'returnOnEquity', 'targetHighPrice', 'totalCash', 'totalDebt', 'totalRevenue', 'totalCashPerShare', 'financialCurrency', 'revenuePerShare', 'quickRatio', 'recommendationMean', 'exchange', 'shortName', 'longName', 'exchangeTimezoneName', 'exchangeTimezoneShortName', 'isEsgPopulated', 'gmtOffSetMilliseconds', 'quoteType', 'symbol', 'messageBoardId', 'market', 'annualHoldingsTurnover', 'enterpriseToRevenue', 'beta3Year', 'enterpriseToEbitda', '52WeekChange', 'morningStarRiskRating', 'forwardEps', 'revenueQuarterlyGrowth', 'sharesOutstanding', 'fundInceptionDate', 'annualReportExpenseRatio', 'totalAssets', 'bookValue', 'sharesShort', 'sharesPercentSharesOut', 'fundFamily', 'lastFiscalYearEnd', 'heldPercentInstitutions', 'netIncomeToCommon', 'trailingEps', 'lastDividendValue', 'SandP52WeekChange', 'priceToBook', 'heldPercentInsiders', 'nextFiscalYearEnd', 'yield', 'mostRecentQuarter', 'shortRatio', 'sharesShortPreviousMonthDate', 'floatShares', 'beta', 'enterpriseValue', 'priceHint', 'threeYearAverageReturn', 'lastSplitDate', 'lastSplitFactor', 'legalType', 'lastDividendDate', 'morningStarOverallRating', 'earningsQuarterlyGrowth', 'priceToSalesTrailing12Months', 'dateShortInterest', 'pegRatio', 'ytdReturn', 'forwardPE', 'lastCapGain', 'shortPercentOfFloat', 'sharesShortPriorMonth', 'impliedSharesOutstanding', 'category', 'fiveYearAverageReturn', 'previousClose', 'regularMarketOpen', 'twoHundredDayAverage', 'trailingAnnualDividendYield', 'payoutRatio', 'volume24Hr', 'regularMarketDayHigh', 'navPrice', 'averageDailyVolume10Day', 'regularMarketPreviousClose', 'fiftyDayAverage', 'trailingAnnualDividendRate', 'open', 'toCurrency', 'averageVolume10days', 'expireDate', 'algorithm', 'dividendRate', 'exDividendDate', 'circulatingSupply', 'startDate', 'regularMarketDayLow', 'currency', 'trailingPE', 'regularMarketVolume', 'lastMarket', 'maxSupply', 'openInterest', 'marketCap', 'volumeAllCurrencies', 'strikePrice', 'averageVolume', 'dayLow', 'ask', 'askSize', 'volume', 'fiftyTwoWeekHigh', 'fromCurrency', 'fiveYearAvgDividendYield', 'fiftyTwoWeekLow', 'bid', 'tradeable', 'dividendYield', 'bidSize', 'dayHigh', 'regularMarketPrice', 'logo_url'])"
      ]
     },
     "execution_count": 5,
     "metadata": {},
     "output_type": "execute_result"
    }
   ],
   "source": [
    "info.keys()"
   ]
  },
  {
   "cell_type": "code",
   "execution_count": 61,
   "id": "dd0ae950",
   "metadata": {},
   "outputs": [
    {
     "data": {
      "text/plain": [
       "'Zynex, Inc., through its subsidiaries, designs, manufactures, and markets medical devices to treat chronic and acute pain; and activate and exercise muscles for rehabilitative purposes with electrical stimulation. It offers NexWave, a dual channel, multi-modality interferential current, transcutaneous electrical nerve stimulation (TENS), and neuromuscular electrical stimulation (NMES) device; NeuroMove, an electromyography triggered electrical stimulation device; InWave, an electrical stimulation product for the treatment of female urinary incontinence; and E-Wave, an NMES device. The company also supplies electrodes for the delivery of electrical current to the body, and batteries for use in electrotherapy products; and distributes Comfortrac/Saunders for cervical traction, JetStream for hot/cold therapy, and LSO Back Braces for lumbar support. In addition, it offers CM-1500, a blood volume monitor device for monitoring central blood volume for use in operating and recovery rooms to detect blood loss during surgery and internal bleeding during recovery. The company provides its products for use in pain management and control; and stroke and spinal cord injury rehabilitation. Zynex, Inc. sells its products through direct sales force primarily in the United States. The company was founded in 1996 and is headquartered in Englewood, Colorado.'"
      ]
     },
     "execution_count": 61,
     "metadata": {},
     "output_type": "execute_result"
    }
   ],
   "source": [
    "info['longBusinessSummary']"
   ]
  },
  {
   "cell_type": "code",
   "execution_count": null,
   "id": "ea9925e1",
   "metadata": {},
   "outputs": [],
   "source": [
    "data = data.financials\n",
    "data = data.transpose()\n",
    "\n",
    "this_year = data.index[0]\n",
    "this_year"
   ]
  },
  {
   "cell_type": "code",
   "execution_count": null,
   "id": "0a424b3e",
   "metadata": {},
   "outputs": [],
   "source": [
    "price_to_income = info[\"marketCap\"] / data['Net Income'][this_year]\n",
    "# долг к капиталу\n",
    "debt_to_equity = info['debtToEquity']\n",
    "# рентабельность собственного капитала\n",
    "return_on_equity = info['returnOnEquity']\n",
    "# долг\n",
    "info['totalDebt']\n",
    "info['revenuePerShare']\n",
    "info['dividendRate']\n",
    "info['forwardPE']"
   ]
  },
  {
   "cell_type": "code",
   "execution_count": 35,
   "id": "e20039bf",
   "metadata": {},
   "outputs": [],
   "source": [
    "def plot_article_costs( df, atricle_date_utc ):\n",
    "    \n",
    "    plt.figure(figsize=(30,10))\n",
    "    hist = df.copy()\n",
    "    atricle_date_utc = pd.to_datetime( atricle_date )\n",
    "    date_format = '%Y-%m-%d %H:%M'\n",
    "    \n",
    "    # get interval of start and end dates\n",
    "    start_time = hist.index[0] + pd.DateOffset(days=-1) \n",
    "    end_time   = hist.index[-1]\n",
    "    \n",
    "    # delete minute and seconds  ( 2021-07-16 13:30:00+0000 )\n",
    "#     hist.index = [ i.strftime( '%Y-%m-%d %H' ) for i in hist.index ]\n",
    "#     hist.index = pd.to_datetime( hist.index )\n",
    "\n",
    "    # delete minute and seconds  ( 2021-07-16 13:30:00+0000 )\n",
    "#     atricle_date_utc = atricle_date_utc.strftime( '%Y-%m-%d %H' ) \n",
    "#     atricle_date_utc = pd.to_datetime(atricle_date_utc)\n",
    "    \n",
    "    # get articles from period of costs\n",
    "    atricle_date_utc = pd.to_datetime( [ date for date in atricle_date_utc if date > start_time and date < end_time ] )\n",
    "    # get nearist date for article and open\n",
    "    article_date_value = [ hist['Open'][hist.index.get_loc(date, method='nearest')] + 0.1  for date in atricle_date_utc ]\n",
    "    # articles will pointed in time, when we already now the cost    \n",
    "#     atricle_date_utc   = [ hist.index[hist.index.get_loc(date, method='nearest')]        for date in atricle_date_utc ] \n",
    "#     atricle_date_utc = pd.to_datetime(atricle_date_utc)\n",
    "    # convert time for plot\n",
    "    atricle_date_utc = atricle_date_utc.strftime( date_format )     \n",
    "    atricle_date_utc = [ datetime.strptime( date, date_format ) for date in atricle_date_utc ]\n",
    "    \n",
    "    hist.index = hist.index.strftime( date_format )\n",
    "    hist.index = [ datetime.strptime(i, date_format) for i in hist.index ]\n",
    "    hist[\"Time\"] = hist.index\n",
    "    \n",
    "    # get uniique index for scatter plot    \n",
    "#     scatter_index  = pd.Series( atricle_date_utc ).value_counts().index\n",
    "#     scatter_index  = scatter_index.strftime( date_format )\n",
    "#     scatter_index  = [ datetime.strptime(i, date_format) for i in scatter_index ]\n",
    "    # get unique size and values for scatter    \n",
    "#     scatter_size   = pd.Series( atricle_date_utc ).value_counts().values\n",
    "#     scatter_values = [ hist['Open'][hist.index.get_loc(date, method='nearest')] + 1  for date in pd.to_datetime(scatter_index)]\n",
    "    \n",
    "    plt.plot( hist['Time'], hist['Open'])\n",
    "    plt.plot( atricle_date_utc, article_date_value, '.' );\n",
    "#     sns.scatterplot( x=scatter_index, y=scatter_values, size=scatter_size )"
   ]
  },
  {
   "cell_type": "code",
   "execution_count": 62,
   "id": "5a392c02",
   "metadata": {},
   "outputs": [],
   "source": [
    "atricle_date = ['2021-07-30 00:15:00+00:00', '2021-07-29 21:30:00+00:00',\n",
    "               '2021-07-29 18:46:00+00:00', '2021-07-30 03:00:00+00:00',\n",
    "               '2021-07-30 09:51:00+00:00', '2021-07-31 07:24:00+00:00',\n",
    "               '2021-07-31 07:24:00+00:00', '2021-07-30 04:21:00+00:00',\n",
    "               '2021-07-30 18:58:00+00:00', '2021-07-29 17:43:00+00:00']"
   ]
  },
  {
   "cell_type": "code",
   "execution_count": 63,
   "id": "fac6ff37",
   "metadata": {},
   "outputs": [
    {
     "data": {
      "image/png": "[encoded data removed]",
      "text/plain": [
       "<Figure size 2160x720 with 1 Axes>"
      ]
     },
     "metadata": {
      "needs_background": "light"
     },
     "output_type": "display_data"
    }
   ],
   "source": [
    "plot_article_costs( hist, atricle_date )"
   ]
  },
  {
   "cell_type": "code",
   "execution_count": 30,
   "id": "d3334bc1",
   "metadata": {},
   "outputs": [
    {
     "data": {
      "image/png": "[encoded data removed]",
      "text/plain": [
       "<Figure size 432x288 with 1 Axes>"
      ]
     },
     "metadata": {
      "needs_background": "light"
     },
     "output_type": "display_data"
    }
   ],
   "source": [
    "# plt.plot( plot_time, np.full( len(plot_time), hist['Open'].mean() ), color=\"white\" );\n",
    "plt.plot( hist.index, hist['Open'])\n",
    "plt.plot( hist.index, hist['Close']);"
   ]
  },
  {
   "cell_type": "markdown",
   "id": "f7bf8615",
   "metadata": {},
   "source": [
    "# Article scraping"
   ]
  },
  {
   "cell_type": "markdown",
   "id": "66d5461d",
   "metadata": {},
   "source": [
    "    decoder\n",
    "https://meyerweb.com/eric/tools/dencoder/\n",
    "    \n",
    "    decode url news\n",
    "    MSFT\n",
    "https://www.wsj.com/market-data/quotes/MSFT?id={\"ticker\":\"msft\",\"countryCode\":\"US\",\"exchange\":\"\",\"type\":\"STOCK\",\"path\":\"/msft\"}&type=quotes_latestNews\n",
    "https://www.wsj.com/market-data/quotes/MSFT?id=%7B%22ticker%22%3A%22msft%22%2C%22countryCode%22%3A%22US%22%2C%22exchange%22%3A%22%22%2C%22type%22%3A%22STOCK%22%2C%22path%22%3A%22%2Fmsft%22%7D&type=quotes_latestNews\n",
    "\n",
    "    page msft\n",
    "https://www.wsj.com/market-data/quotes/MSFT"
   ]
  },
  {
   "cell_type": "markdown",
   "id": "bf4e9aa4",
   "metadata": {},
   "source": [
    "https://www.barrons.com/quote/stock/tal\n",
    "news-columns class"
   ]
  },
  {
   "cell_type": "markdown",
   "id": "6970ef8b",
   "metadata": {},
   "source": [
    "https://hercules-api.investorsobserver.com/api/stock/tal?comment=stockDetailPage%2FloadStockData\n",
    "\n",
    "    offset вторая порция\n",
    "https://hercules-apiv2.investorsobserver.com/api/wp/posts?\n",
    "            filter[category_name]=mtnewswire,,,,\n",
    "            morning-update,stocks-to-watch,featured,investorskeyhole,market-updates,market-week-ahead,investing,\n",
    "            personal-finance,week-in-review&filter[tag]=&filter[symbols]=TAL&per_page=5&offset=5\n",
    "            \n",
    "    headers\n",
    "Accept: application/json, text/plain, */*\n",
    "Referer: https://www.investorsobserver.com/\n",
    "sec-ch-ua: \" Not;A Brand\";v=\"99\", \"Google Chrome\";v=\"91\", \"Chromium\";v=\"91\"\n",
    "sec-ch-ua-mobile: ?0\n",
    "User-Agent: Mozilla/5.0 (Windows NT 10.0; Win64; x64) AppleWebKit/537.36 (KHTML, like Gecko) Chrome/91.0.4472.124 Safari/537.36"
   ]
  },
  {
   "cell_type": "markdown",
   "id": "35dc3c95",
   "metadata": {},
   "source": [
    "headers = { 'Accept':'*/*',\n",
    "    'Accept-Encoding':'gzip, deflate, sdch',\n",
    "    'Accept-Language':'en-US,en;q=0.8',\n",
    "    'Cache-Control':'max-age=0',\n",
    "    'User-Agent': 'Mozilla/5.0 (X11; Linux x86_64) AppleWebKit/537.36 (KHTML, like Gecko) Chrome/48.0.2564.116 Safari/537.36' }\n",
    "\n",
    "for key in headers:\n",
    "    webdriver.DesiredCapabilities.PHANTOMJS['phantomjs.page.customHeaders.{}'.format(key)] = headers[key]"
   ]
  },
  {
   "cell_type": "code",
   "execution_count": null,
   "id": "92d55ce2",
   "metadata": {},
   "outputs": [],
   "source": [
    "def htmltotext(text):\n",
    "    # break into lines and remove leading and trailing space on each\n",
    "    lines = (line.strip() for line in text.splitlines())\n",
    "    # break multi-headlines into a line each\n",
    "    chunks = (phrase.strip() for line in lines for phrase in line.split(\"  \"))\n",
    "    # drop blank lines\n",
    "    text = '\\n'.join(chunk for chunk in chunks if chunk)\n",
    "    return text"
   ]
  },
  {
   "cell_type": "code",
   "execution_count": null,
   "id": "d3d530dd",
   "metadata": {},
   "outputs": [],
   "source": [
    "def some_actions( browser ):\n",
    "    \n",
    "    step = random.randint( 15,25 )\n",
    "    bias = 50\n",
    "    \n",
    "    for i in range (400,600, step):\n",
    "        \n",
    "        if i > 480+step:\n",
    "            browser.execute_script(\"window.moveTo({},{})\".format(step+2, step)) \n",
    "        \n",
    "        time.sleep(0.2)\n",
    "        browser.execute_script(\"window.scrollTo(0, {})\".format(bias+i)) "
   ]
  },
  {
   "cell_type": "code",
   "execution_count": null,
   "id": "6ce7ae47",
   "metadata": {},
   "outputs": [],
   "source": [
    "def query_url(url, browser, wait_time=None):\n",
    "    \n",
    "    if wait_time != None:\n",
    "        browser.set_page_load_timeout(wait_time)\n",
    "\n",
    "    try:\n",
    "        browser.get(url)\n",
    "        some_actions( browser )\n",
    "        cookies = browser.get_cookies()\n",
    "        # browser.delete_all_cookies()\n",
    "        for cookie in cookies:\n",
    "            browser.add_cookie(cookie)\n",
    "    except Exception as e:\n",
    "        if \"timeout:\" not in str(e):\n",
    "            print( str(e), wait_time )\n",
    "            \n",
    "    html = browser.page_source\n",
    "    html = html.replace( \"\\\\\", \"\" )\n",
    "    return html"
   ]
  },
  {
   "cell_type": "code",
   "execution_count": null,
   "id": "0b47622e",
   "metadata": {},
   "outputs": [],
   "source": [
    "from selenium import webdriver\n",
    "import json\n",
    "from bs4 import BeautifulSoup\n",
    "\n",
    "# browser = webdriver.PhantomJS( executable_path = \"C:\\\\Phantomjs\\\\bin\\\\phantomjs\")\n",
    "# browser.set_window_size(2048, 1600)\n",
    "# set_cookie( \"wsj.com_cookies.txt\", browser )\n",
    "# set_cookie( \"bloomberg.com_cookies.txt\", browser )\n",
    "\n",
    "browser = webdriver.Chrome(  executable_path = \"C:\\\\Chrome\\\\chromedriver\" )"
   ]
  },
  {
   "cell_type": "code",
   "execution_count": null,
   "id": "2a4a85e7",
   "metadata": {},
   "outputs": [],
   "source": [
    "def get_news_url_for_company_name( company_name ):\n",
    "    # Get news hrefs\n",
    "    url = '''https://www.wsj.com/market-data/quotes/{}?id=%7B%22ticker%22%3A%22{}%22%2C%22countryCode%22%3A%22US%22%2C%22exchange%22%3A%22%22%2C%22type%22%3A%22STOCK%22%2C%22path%22%3A%22%2F{}%22%7D&type=quotes_latestNews'''.format( company_name.upper() , company_name, company_name )\n",
    "    browser.get(url)\n",
    "    html = browser.page_source\n",
    "\n",
    "    # delete html tags from string\n",
    "    res = '''{\"id\"''' + html.split('''>{\"id\"''')[1]\n",
    "    res = res.split('''\"}<''')[0] + '''\"}'''\n",
    "    data = json.loads( res )\n",
    "\n",
    "    headlines    = []\n",
    "    urls         = []\n",
    "    time         = []\n",
    "    atricle_date = []\n",
    "\n",
    "    for index, article in enumerate( data['data']['news']['articles'] ):\n",
    "        # if, the article has a url, and our hedaline is not a advertising\n",
    "        if 'url' in article and \"Thinking about buying stock\" not in article['headline'] :\n",
    "            headlines.append( article['headline'] )\n",
    "            urls.append( article['url'] )\n",
    "            time.append( article['datetime'] )\n",
    "            atricle_date.append( article['articleDate'] )\n",
    "            \n",
    "    return headlines, urls, time, atricle_date"
   ]
  },
  {
   "cell_type": "code",
   "execution_count": null,
   "id": "8f319fc3",
   "metadata": {},
   "outputs": [],
   "source": [
    "headlines, urls, time, atricle_date = get_news_url_for_company_name( company_name )"
   ]
  },
  {
   "cell_type": "code",
   "execution_count": null,
   "id": "48787c53",
   "metadata": {},
   "outputs": [],
   "source": [
    "def get_articles_texts( urls, article_content_dict, err_articles, browser ):\n",
    "    \n",
    "    for url in urls:\n",
    "\n",
    "        article_content = \"\"\n",
    "        wait_time = 0.5\n",
    "\n",
    "        print( url )\n",
    "        for try_cnt in range(1,5):\n",
    "\n",
    "            try:\n",
    "                browser.set_page_load_timeout(wait_time)\n",
    "                browser.get(url)\n",
    "            except Exception as e:\n",
    "                if \"Error: 'timeout\" not in str(e):\n",
    "                    print( str(e), wait_time )\n",
    "\n",
    "            html = browser.page_source\n",
    "            soup = BeautifulSoup(html, 'html.parser')\n",
    "\n",
    "            if \"www.wsj.com\" in url:\n",
    "                article_content = soup.find( \"div\", attrs={\"class\" : \"article-content\"} )\n",
    "            if \"www.barrons.com\" in url :\n",
    "                article_content = soup.find( \"div\", attrs={\"class\" : \"paywall\"} )\n",
    "            if \"www.marketwatch.com\" in url :\n",
    "                article_content = soup.find( \"div\", attrs={\"class\" : \"paywall\"} )\n",
    "\n",
    "            # if article_content is None, increaze time wait a continue\n",
    "            if article_content == None :\n",
    "                wait_time += 1.5\n",
    "                continue\n",
    "            else:\n",
    "                break\n",
    "        # if after increazing time wait, article_content is not None, continue to next url\n",
    "        if article_content == None :\n",
    "            err_articles.append( url )\n",
    "            print( \"err\", url)\n",
    "            continue\n",
    "\n",
    "        # get text from html\n",
    "        text = htmltotext( article_content.get_text() )\n",
    "\n",
    "        article_content_dict[url] = text\n",
    "        \n",
    "    browser.set_page_load_timeout(20)"
   ]
  },
  {
   "cell_type": "code",
   "execution_count": null,
   "id": "a043c534",
   "metadata": {},
   "outputs": [],
   "source": [
    "article_content_dict = {}"
   ]
  },
  {
   "cell_type": "code",
   "execution_count": null,
   "id": "74238906",
   "metadata": {},
   "outputs": [],
   "source": [
    "err_articles = []\n",
    "get_article_texts( urls , article_content_dict, err_articles, browser)"
   ]
  },
  {
   "cell_type": "code",
   "execution_count": null,
   "id": "86ba7f57",
   "metadata": {},
   "outputs": [],
   "source": [
    "for key, value in article_content_dict.items():\n",
    "    print( len(value) )"
   ]
  },
  {
   "cell_type": "code",
   "execution_count": null,
   "id": "a9cd91f8",
   "metadata": {},
   "outputs": [],
   "source": [
    "from IPython.core.display import display, HTML\n",
    "display(HTML(html))"
   ]
  },
  {
   "cell_type": "markdown",
   "id": "a71bbf69",
   "metadata": {},
   "source": [
    "class name or item id for each web-site\n",
    "\n",
    "marketwatch\n",
    "js-article__body id\n",
    "paywall class\n",
    "\n",
    "barronsstrftime\n",
    "paywall class\n",
    "\n",
    "wst\n",
    "article-content  \n",
    "\n",
    "businesswire\n",
    "bw-release-story"
   ]
  },
  {
   "cell_type": "markdown",
   "id": "a0bd3efc",
   "metadata": {},
   "source": [
    "# Article scraping from all newspaper"
   ]
  },
  {
   "cell_type": "markdown",
   "id": "3cca2c37",
   "metadata": {},
   "source": [
    "https://www.bloomberg.com/\n",
    "https://www.cnbc.com/\n",
    "https://www.thomsonreuters.com/\n",
    "https://seekingalpha.com/"
   ]
  },
  {
   "cell_type": "code",
   "execution_count": null,
   "id": "cc8dab9c",
   "metadata": {},
   "outputs": [],
   "source": [
    "def get_articles_href( urls, article_content_dict, err_articles, browser ):\n",
    "    \n",
    "    for url in urls:\n",
    "\n",
    "        article_urls = \"\"\n",
    "        wait_time = 0.5\n",
    "\n",
    "        for try_cnt in range(1,5):\n",
    "\n",
    "            try:\n",
    "                browser.set_page_load_timeout(wait_time)\n",
    "                browser.get(url)\n",
    "            except Exception as e:\n",
    "                if \"Error: 'timeout\" not in str(e):\n",
    "                    print( str(e), wait_time )\n",
    "\n",
    "            html = browser.page_source\n",
    "            soup = BeautifulSoup(html, 'html.parser')\n",
    "\n",
    "            if \"www.wsj.com\"         in url:\n",
    "                article_urls = soup.find( \"div\", attrs={\"class\" : \"article-content\"} )\n",
    "            if \"www.barrons.com\"     in url :\n",
    "                article_urls = soup.find( \"div\", attrs={\"class\" : \"paywall\"} )\n",
    "            if \"www.marketwatch.com\" in url :\n",
    "                article_urls = soup.find( \"div\", attrs={\"class\" : \"paywall\"} )\n",
    "            if \"www.bloomberg\"       in url :\n",
    "                article_urls = soup.find_all( \"a\", attrs={\"class\" : \"story-list-story__info__headline-link\"} )\n",
    "\n",
    "            # if article_content is None, increaze time wait a continue\n",
    "            if article_content == None :\n",
    "                wait_time += 1.5\n",
    "                continue\n",
    "            else:\n",
    "                break\n",
    "        # if after increazing time wait, article_content is not None, continue to next url\n",
    "        if article_content == None :\n",
    "            err_articles.append( url )\n",
    "            print( \"err\", url)\n",
    "            continue\n",
    "\n",
    "        # get text from html\n",
    "        text = htmltotext( article_content.get_text() )\n",
    "\n",
    "        article_content_dict[url] = text\n",
    "        \n",
    "    browser.set_page_load_timeout(20)"
   ]
  },
  {
   "cell_type": "code",
   "execution_count": null,
   "id": "d9495134",
   "metadata": {},
   "outputs": [],
   "source": [
    "browser.refresh()"
   ]
  },
  {
   "cell_type": "code",
   "execution_count": null,
   "id": "4fd363b5",
   "metadata": {},
   "outputs": [],
   "source": [
    "browser.set_page_load_timeout(10)"
   ]
  },
  {
   "cell_type": "code",
   "execution_count": null,
   "id": "cf55c907",
   "metadata": {},
   "outputs": [],
   "source": [
    "query_url(query_url, browser)"
   ]
  },
  {
   "cell_type": "code",
   "execution_count": null,
   "id": "d6d872ae",
   "metadata": {},
   "outputs": [],
   "source": [
    "html = browser.page_source\n",
    "html = html.replace( \"\\\\\", \"\" )\n",
    "soup = BeautifulSoup(html, 'html.parser')"
   ]
  },
  {
   "cell_type": "code",
   "execution_count": null,
   "id": "e3fd19d7",
   "metadata": {},
   "outputs": [],
   "source": [
    "source_url = \"https://www.bloomberg.com\"\n",
    "articles = soup.find_all( \"a\", attrs={\"class\" : \"story-list-story__info__headline-link\"} )\n",
    "\n",
    "articles_url_name = {}\n",
    "for article in articles:\n",
    "    href = source_url + article['href']\n",
    "    articles_url_name[ href ] = article.get_text()"
   ]
  },
  {
   "cell_type": "code",
   "execution_count": null,
   "id": "edb1d39a",
   "metadata": {},
   "outputs": [],
   "source": [
    "query_url = list( articles_url_name.keys() )[0]\n",
    "query_url(query_url, browser)"
   ]
  },
  {
   "cell_type": "code",
   "execution_count": null,
   "id": "8c509a67",
   "metadata": {},
   "outputs": [],
   "source": [
    "html = browser.page_source\n",
    "html = html.replace( \"\\\\\", \"\" )\n",
    "soup = BeautifulSoup(html, 'html.parser')"
   ]
  },
  {
   "cell_type": "code",
   "execution_count": null,
   "id": "0bb756a0",
   "metadata": {},
   "outputs": [],
   "source": [
    "soup.find_all( attrs={\"class\" : \"body-copy-v2\"} )"
   ]
  },
  {
   "cell_type": "code",
   "execution_count": null,
   "id": "1a6128b6",
   "metadata": {},
   "outputs": [],
   "source": [
    "soup.find_all( \"p\", attrs={\"class\" : \"paywall\"} )"
   ]
  },
  {
   "cell_type": "code",
   "execution_count": null,
   "id": "1e4d4eae",
   "metadata": {},
   "outputs": [],
   "source": []
  },
  {
   "cell_type": "code",
   "execution_count": null,
   "id": "63dab671",
   "metadata": {},
   "outputs": [],
   "source": []
  },
  {
   "cell_type": "code",
   "execution_count": null,
   "id": "70ed3125",
   "metadata": {},
   "outputs": [],
   "source": [
    "import pyautogui\n",
    "import time\n",
    "\n",
    "pyautogui.size()"
   ]
  },
  {
   "cell_type": "code",
   "execution_count": null,
   "id": "22d4256a",
   "metadata": {},
   "outputs": [],
   "source": []
  },
  {
   "cell_type": "code",
   "execution_count": null,
   "id": "2470ea6f",
   "metadata": {},
   "outputs": [],
   "source": [
    "action  = webdriver.ActionChains(browser)"
   ]
  },
  {
   "cell_type": "markdown",
   "id": "5f3cd1a1",
   "metadata": {},
   "source": [
    "# Text visualization"
   ]
  },
  {
   "cell_type": "code",
   "execution_count": null,
   "id": "de6cba26",
   "metadata": {},
   "outputs": [],
   "source": [
    "# from sklearn.manifold import TSNE"
   ]
  },
  {
   "cell_type": "code",
   "execution_count": null,
   "id": "d17d4abe",
   "metadata": {},
   "outputs": [],
   "source": []
  },
  {
   "cell_type": "code",
   "execution_count": null,
   "id": "9cdce061",
   "metadata": {},
   "outputs": [],
   "source": []
  },
  {
   "cell_type": "code",
   "execution_count": null,
   "id": "bca22e0f",
   "metadata": {},
   "outputs": [],
   "source": [
    "import pyautogui\n",
    "import time\n",
    "\n",
    "def confirm_not_robot():\n",
    "    \n",
    "    screenWidth, screenHeight = pyautogui.size() # Get the size of the primary monitor.\n",
    "    \n",
    "    clickToX = screenWidth/2 - 100\n",
    "#     480\n",
    "    clickToY = [ 320]\n",
    "    \n",
    "    turnX = 1804\n",
    "    turnY = 11\n",
    "    \n",
    "    for y in clickToY:\n",
    "        \n",
    "        pyautogui.moveTo( clickToX, y )\n",
    "\n",
    "        pyautogui.mouseDown();\n",
    "        time.sleep( 6 )\n",
    "        pyautogui.mouseUp()\n",
    "        \n",
    "        #  move and turn all open pages        \n",
    "        pyautogui.moveTo( turnX, turnY )\n",
    "        pyautogui.click()\n",
    "        pyautogui.click()\n",
    "        pyautogui.click()\n",
    "\n",
    "#     currentMouseX, currentMouseY = pyautogui.position() # Get the XY position of the mouse."
   ]
  },
  {
   "cell_type": "code",
   "execution_count": null,
   "id": "469a80f7",
   "metadata": {},
   "outputs": [],
   "source": []
  }
 ],
 "metadata": {
  "kernelspec": {
   "display_name": "Python 3 (ipykernel)",
   "language": "python",
   "name": "python3"
  },
  "language_info": {
   "codemirror_mode": {
    "name": "ipython",
    "version": 3
   },
   "file_extension": ".py",
   "mimetype": "text/x-python",
   "name": "python",
   "nbconvert_exporter": "python",
   "pygments_lexer": "ipython3",
   "version": "3.10.10"
  }
 },
 "nbformat": 4,
 "nbformat_minor": 5
}
